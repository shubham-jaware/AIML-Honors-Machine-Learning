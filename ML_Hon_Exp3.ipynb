{
  "cells": [
    {
      "cell_type": "markdown",
      "id": "83687705",
      "metadata": {
        "id": "83687705"
      },
      "source": [
        "\n",
        "# Experiment 3: Implement Basic Logic Gates using HebbNet Neural Networks\n",
        "\n",
        "**Objective:**  \n",
        "To implement basic logic gates (AND, OR, NAND, NOR) using a simple Hebbian learning rule (HebbNet).  \n",
        "\n",
        "**Theory:**  \n",
        "- **Hebbian Learning**: \"Neurons that fire together, wire together\".  \n",
        "- The weight update rule:  \n",
        "  \\\\[ w_{new} = w_{old} + x \\times y \\\\]  \n",
        "  where:  \n",
        "  - \\\\(x\\\\) is the input  \n",
        "  - \\\\(y\\\\) is the desired output  \n",
        "  ## Bipolar Representation\n",
        "\n",
        "For stability, logic values are converted:\n",
        "\n",
        "* Binary: $\\{0,1\\}$\n",
        "* Bipolar: $\\{-1,+1\\}$\n",
        "\n",
        "Conversion:\n",
        "\n",
        "$$\n",
        "bipolar(x) = 2x - 1\n",
        "$$\n",
        "\n",
        "This symmetric representation makes Hebbian updates simpler.\n",
        "\n",
        "---\n",
        "\n",
        "##HebbNet Architecture\n",
        "\n",
        "A **Hebbian Network (HebbNet)** for logic gates is very simple:\n",
        "\n",
        "* **Inputs:** $x_1, x_2$ (two binary/bipolar inputs).\n",
        "* **Bias:** A constant input of $+1$ (helps adjust threshold).\n",
        "* **Weights:** $w_1, w_2, w_b$ (including bias).\n",
        "* **Output neuron:** Uses the **sign activation function**:\n",
        "\n",
        "$$\n",
        "y = \\text{sign}(w_1 x_1 + w_2 x_2 + w_b)\n",
        "$$\n",
        "\n",
        "Where:\n",
        "\n",
        "$$\n",
        "\\text{sign}(z) =\n",
        "\\begin{cases}\n",
        "+1 & \\text{if } z \\geq 0 \\\\\n",
        "-1 & \\text{if } z < 0\n",
        "\\end{cases}\n",
        "$$\n",
        "\n",
        "---\n",
        "\n",
        "**Steps:**  \n",
        "1. Define input patterns for logic gates.  \n",
        "2. Apply Hebbian learning rule to update weights.  \n",
        "3. Test the trained network for correctness.  \n",
        "4. Visualize predictions alongside truth tables.\n"
      ]
    },
    {
      "cell_type": "markdown",
      "id": "2a4d7809",
      "metadata": {
        "id": "2a4d7809"
      },
      "source": [
        "### Step 1: Import Required Libraries"
      ]
    },
    {
      "cell_type": "code",
      "execution_count": null,
      "id": "da7fb194",
      "metadata": {
        "id": "da7fb194"
      },
      "outputs": [],
      "source": [
        "\n",
        "import numpy as np\n",
        "import matplotlib.pyplot as plt\n",
        "import pandas as pd\n"
      ]
    },
    {
      "cell_type": "markdown",
      "id": "d33970e3",
      "metadata": {
        "id": "d33970e3"
      },
      "source": [
        "\n",
        "### Step 2: Define Hebbian Network Class  \n",
        "\n",
        "This class implements the Hebbian learning rule:  \n",
        "- **train()** → Updates weights and bias using Hebbian rule  \n",
        "- **predict()** → Uses learned weights to classify input  \n"
      ]
    },
    {
      "cell_type": "code",
      "execution_count": null,
      "id": "d2982e41",
      "metadata": {
        "id": "d2982e41"
      },
      "outputs": [],
      "source": [
        "\n",
        "class HebbNet:\n",
        "    def __init__(self, input_size):\n",
        "        self.weights = np.zeros(input_size)\n",
        "        self.bias = 0\n",
        "\n",
        "    def train(self, X, Y):\n",
        "        for x, y in zip(X, Y):\n",
        "            self.weights += x * y\n",
        "            self.bias += y\n",
        "\n",
        "    def predict(self, x):\n",
        "        activation = np.dot(self.weights, x) + self.bias\n",
        "        return 1 if activation >= 0 else 0\n"
      ]
    },
    {
      "cell_type": "markdown",
      "id": "06fa6e3b",
      "metadata": {
        "id": "06fa6e3b"
      },
      "source": [
        "\n",
        "### Step 3: Define Input Patterns  \n",
        "\n",
        "We will use the standard binary inputs for two-variable logic gates.  \n"
      ]
    },
    {
      "cell_type": "code",
      "execution_count": null,
      "id": "f903bf3f",
      "metadata": {
        "id": "f903bf3f"
      },
      "outputs": [],
      "source": [
        "\n",
        "# Input patterns (x1, x2)\n",
        "X = np.array([\n",
        "    [0,0],\n",
        "    [0,1],\n",
        "    [1,0],\n",
        "    [1,1]\n",
        "])\n"
      ]
    },
    {
      "cell_type": "markdown",
      "id": "f21718ba",
      "metadata": {
        "id": "f21718ba"
      },
      "source": [
        "\n",
        "### Step 4: Train HebbNet for AND Gate  \n",
        "\n",
        "Truth Table:  \n",
        "\n",
        "| X1 | X2 | Y (AND) |\n",
        "|----|----|---------|\n",
        "| 0  | 0  | 0       |\n",
        "| 0  | 1  | 0       |\n",
        "| 1  | 0  | 0       |\n",
        "| 1  | 1  | 1       |\n"
      ]
    },
    {
      "cell_type": "code",
      "execution_count": null,
      "id": "de83ada3",
      "metadata": {
        "id": "de83ada3"
      },
      "outputs": [],
      "source": [
        "\n",
        "Y_and = np.array([0,0,0,1])\n",
        "\n",
        "hebb_and = HebbNet(input_size=2)\n",
        "hebb_and.train(X, Y_and)\n",
        "\n",
        "# Predictions\n",
        "pred_and = [hebb_and.predict(x) for x in X]\n",
        "\n",
        "# Display table\n",
        "df_and = pd.DataFrame({\"X1\": X[:,0], \"X2\": X[:,1], \"Predicted Y\": pred_and, \"Expected Y\": Y_and})\n",
        "print(df_and)\n",
        "\n",
        "# Plot\n",
        "plt.figure(figsize=(4,3))\n",
        "plt.scatter(X[:,0], X[:,1], c=pred_and, cmap='bwr', s=100, edgecolors='k')\n",
        "plt.title(\"AND Gate Predictions\")\n",
        "plt.xlabel(\"X1\")\n",
        "plt.ylabel(\"X2\")\n",
        "plt.grid(True)\n",
        "plt.show()\n"
      ]
    },
    {
      "cell_type": "markdown",
      "id": "97254f6a",
      "metadata": {
        "id": "97254f6a"
      },
      "source": [
        "\n",
        "### Step 5: Train HebbNet for OR Gate  \n",
        "\n",
        "Truth Table:  \n",
        "\n",
        "| X1 | X2 | Y (OR) |\n",
        "|----|----|--------|\n",
        "| 0  | 0  | 0      |\n",
        "| 0  | 1  | 1      |\n",
        "| 1  | 0  | 1      |\n",
        "| 1  | 1  | 1      |\n"
      ]
    },
    {
      "cell_type": "code",
      "execution_count": null,
      "id": "fe476746",
      "metadata": {
        "id": "fe476746"
      },
      "outputs": [],
      "source": [
        "\n",
        "Y_or = np.array([0,1,1,1])\n",
        "\n",
        "hebb_or = HebbNet(input_size=2)\n",
        "hebb_or.train(X, Y_or)\n",
        "\n",
        "# Predictions\n",
        "pred_or = [hebb_or.predict(x) for x in X]\n",
        "\n",
        "df_or = pd.DataFrame({\"X1\": X[:,0], \"X2\": X[:,1], \"Predicted Y\": pred_or, \"Expected Y\": Y_or})\n",
        "print(df_or)\n",
        "\n",
        "plt.figure(figsize=(4,3))\n",
        "plt.scatter(X[:,0], X[:,1], c=pred_or, cmap='bwr', s=100, edgecolors='k')\n",
        "plt.title(\"OR Gate Predictions\")\n",
        "plt.xlabel(\"X1\")\n",
        "plt.ylabel(\"X2\")\n",
        "plt.grid(True)\n",
        "plt.show()\n"
      ]
    },
    {
      "cell_type": "markdown",
      "id": "0793eff9",
      "metadata": {
        "id": "0793eff9"
      },
      "source": [
        "\n",
        "### Step 6: Train HebbNet for NAND Gate  \n",
        "\n",
        "Truth Table:  \n",
        "\n",
        "| X1 | X2 | Y (NAND) |\n",
        "|----|----|----------|\n",
        "| 0  | 0  | 1        |\n",
        "| 0  | 1  | 1        |\n",
        "| 1  | 0  | 1        |\n",
        "| 1  | 1  | 0        |\n"
      ]
    },
    {
      "cell_type": "code",
      "execution_count": null,
      "id": "665d880e",
      "metadata": {
        "id": "665d880e"
      },
      "outputs": [],
      "source": [
        "\n",
        "Y_nand = np.array([1,1,1,0])\n",
        "\n",
        "hebb_nand = HebbNet(input_size=2)\n",
        "hebb_nand.train(X, Y_nand)\n",
        "\n",
        "# Predictions\n",
        "pred_nand = [hebb_nand.predict(x) for x in X]\n",
        "\n",
        "df_nand = pd.DataFrame({\"X1\": X[:,0], \"X2\": X[:,1], \"Predicted Y\": pred_nand, \"Expected Y\": Y_nand})\n",
        "print(df_nand)\n",
        "\n",
        "plt.figure(figsize=(4,3))\n",
        "plt.scatter(X[:,0], X[:,1], c=pred_nand, cmap='bwr', s=100, edgecolors='k')\n",
        "plt.title(\"NAND Gate Predictions\")\n",
        "plt.xlabel(\"X1\")\n",
        "plt.ylabel(\"X2\")\n",
        "plt.grid(True)\n",
        "plt.show()\n"
      ]
    },
    {
      "cell_type": "markdown",
      "id": "686b9f3a",
      "metadata": {
        "id": "686b9f3a"
      },
      "source": [
        "\n",
        "### Step 7: Train HebbNet for NOR Gate  \n",
        "\n",
        "Truth Table:  \n",
        "\n",
        "| X1 | X2 | Y (NOR) |\n",
        "|----|----|---------|\n",
        "| 0  | 0  | 1       |\n",
        "| 0  | 1  | 0       |\n",
        "| 1  | 0  | 0       |\n",
        "| 1  | 1  | 0       |\n"
      ]
    },
    {
      "cell_type": "code",
      "execution_count": null,
      "id": "84717af6",
      "metadata": {
        "id": "84717af6"
      },
      "outputs": [],
      "source": [
        "\n",
        "Y_nor = np.array([1,0,0,0])\n",
        "\n",
        "hebb_nor = HebbNet(input_size=2)\n",
        "hebb_nor.train(X, Y_nor)\n",
        "\n",
        "# Predictions\n",
        "pred_nor = [hebb_nor.predict(x) for x in X]\n",
        "\n",
        "df_nor = pd.DataFrame({\"X1\": X[:,0], \"X2\": X[:,1], \"Predicted Y\": pred_nor, \"Expected Y\": Y_nor})\n",
        "print(df_nor)\n",
        "\n",
        "plt.figure(figsize=(4,3))\n",
        "plt.scatter(X[:,0], X[:,1], c=pred_nor, cmap='bwr', s=100, edgecolors='k')\n",
        "plt.title(\"NOR Gate Predictions\")\n",
        "plt.xlabel(\"X1\")\n",
        "plt.ylabel(\"X2\")\n",
        "plt.grid(True)\n",
        "plt.show()\n"
      ]
    }
  ],
  "metadata": {
    "colab": {
      "provenance": []
    }
  },
  "nbformat": 4,
  "nbformat_minor": 5
}